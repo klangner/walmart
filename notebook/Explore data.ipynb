{
 "cells": [
  {
   "cell_type": "code",
   "execution_count": 2,
   "metadata": {
    "collapsed": false
   },
   "outputs": [
    {
     "name": "stdout",
     "output_type": "stream",
     "text": [
      "Populating the interactive namespace from numpy and matplotlib\n"
     ]
    }
   ],
   "source": [
    "%pylab inline\n",
    "import pandas as pd\n",
    "import numpy as np\n",
    "import matplotlib.pyplot as plt\n",
    "from pylab import rcParams\n",
    "rcParams['figure.figsize'] = 10, 4"
   ]
  },
  {
   "cell_type": "markdown",
   "metadata": {},
   "source": [
    "## Train dataset"
   ]
  },
  {
   "cell_type": "code",
   "execution_count": 10,
   "metadata": {
    "collapsed": false
   },
   "outputs": [
    {
     "name": "stdout",
     "output_type": "stream",
     "text": [
      "Unique trip types count: 38\n",
      "Index(['TripType', 'VisitNumber', 'Weekday', 'Upc', 'ScanCount',\n",
      "       'DepartmentDescription', 'FinelineNumber'],\n",
      "      dtype='object')\n",
      "   TripType  VisitNumber Weekday          Upc  ScanCount  \\\n",
      "0       999            5  Friday  68113152929         -1   \n",
      "1        30            7  Friday  60538815980          1   \n",
      "2        30            7  Friday   7410811099          1   \n",
      "3        26            8  Friday   2238403510          2   \n",
      "4        26            8  Friday   2006613744          2   \n",
      "\n",
      "   DepartmentDescription  FinelineNumber  \n",
      "0     FINANCIAL SERVICES            1000  \n",
      "1                  SHOES            8931  \n",
      "2          PERSONAL CARE            4504  \n",
      "3  PAINT AND ACCESSORIES            3565  \n",
      "4  PAINT AND ACCESSORIES            1017  \n"
     ]
    }
   ],
   "source": [
    "train = pd.read_csv('../data/train.csv')\n",
    "print('Unique trip types count: %d' % len(train.TripType.unique()))\n",
    "print(train.columns)\n",
    "print(train.head())"
   ]
  },
  {
   "cell_type": "markdown",
   "metadata": {},
   "source": [
    "## Test dataset"
   ]
  },
  {
   "cell_type": "code",
   "execution_count": 12,
   "metadata": {
    "collapsed": false
   },
   "outputs": [
    {
     "name": "stdout",
     "output_type": "stream",
     "text": [
      "Index(['VisitNumber', 'Weekday', 'Upc', 'ScanCount', 'DepartmentDescription',\n",
      "       'FinelineNumber'],\n",
      "      dtype='object')\n",
      "   VisitNumber Weekday          Upc  ScanCount DepartmentDescription  \\\n",
      "0            1  Friday  72503389714          1                 SHOES   \n",
      "1            1  Friday   1707710732          1                 DAIRY   \n",
      "2            1  Friday  89470001026          1                 DAIRY   \n",
      "3            1  Friday  88491211470          1     GROCERY DRY GOODS   \n",
      "4            2  Friday   2840015224          1           DSD GROCERY   \n",
      "\n",
      "   FinelineNumber  \n",
      "0            3002  \n",
      "1            1526  \n",
      "2            1431  \n",
      "3            3555  \n",
      "4            4408  \n"
     ]
    }
   ],
   "source": [
    "test = pd.read_csv('../data/test.csv')\n",
    "print(test.columns)\n",
    "print(test.head())"
   ]
  }
 ],
 "metadata": {
  "kernelspec": {
   "display_name": "Python 3",
   "language": "python",
   "name": "python3"
  },
  "language_info": {
   "codemirror_mode": {
    "name": "ipython",
    "version": 3
   },
   "file_extension": ".py",
   "mimetype": "text/x-python",
   "name": "python",
   "nbconvert_exporter": "python",
   "pygments_lexer": "ipython3",
   "version": "3.4.3"
  }
 },
 "nbformat": 4,
 "nbformat_minor": 0
}
